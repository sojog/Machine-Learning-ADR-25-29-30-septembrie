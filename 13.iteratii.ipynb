{
 "cells": [
  {
   "cell_type": "code",
   "execution_count": 4,
   "id": "859c708b",
   "metadata": {},
   "outputs": [
    {
     "name": "stdout",
     "output_type": "stream",
     "text": [
      "i= 1\n",
      "i= 2\n",
      "i= 3\n"
     ]
    }
   ],
   "source": [
    "lista = [1, 2, 3]\n",
    "for i in lista:\n",
    "    print(\"i=\", i)"
   ]
  },
  {
   "cell_type": "code",
   "execution_count": 3,
   "id": "19aa1f8f",
   "metadata": {},
   "outputs": [
    {
     "name": "stdout",
     "output_type": "stream",
     "text": [
      "i= c\n",
      "i= a\n",
      "i= n\n",
      "i= a\n"
     ]
    }
   ],
   "source": [
    "lista = \"cana\"\n",
    "for i in lista:\n",
    "    print(\"i=\", i)"
   ]
  },
  {
   "cell_type": "code",
   "execution_count": 5,
   "id": "db80f7b1",
   "metadata": {},
   "outputs": [
    {
     "name": "stdout",
     "output_type": "stream",
     "text": [
      "43\n",
      "432\n",
      "432\n",
      "624\n",
      "32\n"
     ]
    }
   ],
   "source": [
    "lista = [1, 2, 3, 3, 5, 5, 43, 432, 432, 624, 32]\n",
    "for i in lista:\n",
    "    if i > 7:\n",
    "        print(i)"
   ]
  },
  {
   "cell_type": "code",
   "execution_count": 6,
   "id": "a862f38c",
   "metadata": {},
   "outputs": [
    {
     "name": "stdout",
     "output_type": "stream",
     "text": [
      "[43, 432, 432, 624, 32]\n"
     ]
    }
   ],
   "source": [
    "lista_cu_numere_mai_mari_ca_7 = []\n",
    "lista = [1, 2, 3, 3, 5, 5, 43, 432, 432, 624, 32]\n",
    "for i in lista:\n",
    "    if i > 7:\n",
    "        lista_cu_numere_mai_mari_ca_7.append(i)\n",
    "print(lista_cu_numere_mai_mari_ca_7)"
   ]
  },
  {
   "cell_type": "code",
   "execution_count": null,
   "id": "a4251a55",
   "metadata": {},
   "outputs": [],
   "source": []
  }
 ],
 "metadata": {
  "kernelspec": {
   "display_name": "Python 3",
   "language": "python",
   "name": "python3"
  },
  "language_info": {
   "codemirror_mode": {
    "name": "ipython",
    "version": 3
   },
   "file_extension": ".py",
   "mimetype": "text/x-python",
   "name": "python",
   "nbconvert_exporter": "python",
   "pygments_lexer": "ipython3",
   "version": "3.13.7"
  }
 },
 "nbformat": 4,
 "nbformat_minor": 5
}
