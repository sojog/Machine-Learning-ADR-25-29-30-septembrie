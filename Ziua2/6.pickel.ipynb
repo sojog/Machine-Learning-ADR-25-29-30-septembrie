{
 "cells": [
  {
   "cell_type": "code",
   "execution_count": null,
   "id": "06d4c770",
   "metadata": {},
   "outputs": [],
   "source": [
    "import pickle"
   ]
  },
  {
   "cell_type": "code",
   "execution_count": 2,
   "id": "27157d0b",
   "metadata": {},
   "outputs": [],
   "source": [
    "obiect = [32, 43, 4561, 321, 3]\n",
    "with open(\"obiect.pkl\", \"wb\") as fwriter:\n",
    "    pickle.dump(obiect, fwriter)"
   ]
  },
  {
   "cell_type": "code",
   "execution_count": 3,
   "id": "04b40e93",
   "metadata": {},
   "outputs": [],
   "source": [
    "with open(\"obiect.txt\", \"w\") as fwriter:\n",
    "    fwriter.write(str(obiect))"
   ]
  },
  {
   "cell_type": "code",
   "execution_count": 4,
   "id": "e4a60803",
   "metadata": {},
   "outputs": [
    {
     "name": "stdout",
     "output_type": "stream",
     "text": [
      "[32, 43, 4561, 321, 3] <class 'str'>\n"
     ]
    }
   ],
   "source": [
    "with open(\"obiect.txt\", \"r\") as freader:\n",
    "    obiect_citit = freader.read()\n",
    "    print(obiect_citit, type(obiect_citit))"
   ]
  },
  {
   "cell_type": "code",
   "execution_count": 5,
   "id": "e231c423",
   "metadata": {},
   "outputs": [
    {
     "name": "stdout",
     "output_type": "stream",
     "text": [
      "[32, 43, 4561, 321, 3] <class 'list'>\n"
     ]
    }
   ],
   "source": [
    "with open(\"obiect.pkl\", \"rb\") as file_reader:\n",
    "    obiect_citit = pickle.load(file_reader)\n",
    "    print(obiect_citit, type(obiect_citit))"
   ]
  },
  {
   "cell_type": "code",
   "execution_count": null,
   "id": "399a377f",
   "metadata": {},
   "outputs": [],
   "source": []
  }
 ],
 "metadata": {
  "kernelspec": {
   "display_name": "Python 3",
   "language": "python",
   "name": "python3"
  },
  "language_info": {
   "codemirror_mode": {
    "name": "ipython",
    "version": 3
   },
   "file_extension": ".py",
   "mimetype": "text/x-python",
   "name": "python",
   "nbconvert_exporter": "python",
   "pygments_lexer": "ipython3",
   "version": "3.13.7"
  }
 },
 "nbformat": 4,
 "nbformat_minor": 5
}
