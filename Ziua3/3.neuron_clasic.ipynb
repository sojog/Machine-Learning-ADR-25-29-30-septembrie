{
 "cells": [
  {
   "cell_type": "code",
   "execution_count": 10,
   "id": "b7e57645",
   "metadata": {},
   "outputs": [],
   "source": [
    "def AND_CLASIC(x1, x2):\n",
    "    return int(x1 and x2)"
   ]
  },
  {
   "cell_type": "code",
   "execution_count": 11,
   "id": "1d02cbb8",
   "metadata": {},
   "outputs": [],
   "source": [
    "def printeaza_valorile(functie):\n",
    "    print(\"1, 1:\", functie(1, 1))\n",
    "    print(\"1, 0:\", functie(1, 0) )\n",
    "    print(\"0, 1:\", functie(0, 1) )\n",
    "    print(\"0, 0:\", functie(0, 0))\n",
    "\n"
   ]
  },
  {
   "cell_type": "code",
   "execution_count": 12,
   "id": "e119f934",
   "metadata": {},
   "outputs": [
    {
     "name": "stdout",
     "output_type": "stream",
     "text": [
      "1, 1: 1\n",
      "1, 0: 0\n",
      "0, 1: 0\n",
      "0, 0: 0\n"
     ]
    }
   ],
   "source": [
    "printeaza_valorile(AND_CLASIC)"
   ]
  },
  {
   "cell_type": "code",
   "execution_count": 13,
   "id": "6dd7c74b",
   "metadata": {},
   "outputs": [],
   "source": [
    "def AND_NEURON(x1, x2):\n",
    "    a1, a2  = 0, 0\n",
    "    b = 0\n",
    "    return  x1 * a1 + x2 * a2 + b\n"
   ]
  },
  {
   "cell_type": "code",
   "execution_count": 14,
   "id": "b5bbd5ea",
   "metadata": {},
   "outputs": [
    {
     "name": "stdout",
     "output_type": "stream",
     "text": [
      "1, 1: 0\n",
      "1, 0: 0\n",
      "0, 1: 0\n",
      "0, 0: 0\n"
     ]
    }
   ],
   "source": [
    "printeaza_valorile(AND_NEURON)"
   ]
  },
  {
   "cell_type": "code",
   "execution_count": 16,
   "id": "ec1593f7",
   "metadata": {},
   "outputs": [
    {
     "name": "stdout",
     "output_type": "stream",
     "text": [
      "1, 1: 2\n",
      "1, 0: 1\n",
      "0, 1: 1\n",
      "0, 0: 0\n"
     ]
    }
   ],
   "source": [
    "def AND_NEURON(x1, x2):\n",
    "    a1, a2  = 1, 1\n",
    "    b = 0\n",
    "    return  x1 * a1 + x2 * a2 + b\n",
    "printeaza_valorile(AND_NEURON)"
   ]
  },
  {
   "cell_type": "code",
   "execution_count": 17,
   "id": "da5d12ce",
   "metadata": {},
   "outputs": [
    {
     "name": "stdout",
     "output_type": "stream",
     "text": [
      "1, 1: 1\n",
      "1, 0: 1\n",
      "0, 1: 0\n",
      "0, 0: 0\n"
     ]
    }
   ],
   "source": [
    "def AND_NEURON(x1, x2):\n",
    "    a1, a2  = 1, 0\n",
    "    b = 0\n",
    "    return  x1 * a1 + x2 * a2 + b\n",
    "printeaza_valorile(AND_NEURON)"
   ]
  },
  {
   "cell_type": "code",
   "execution_count": 20,
   "id": "1eaae7c6",
   "metadata": {},
   "outputs": [
    {
     "name": "stdout",
     "output_type": "stream",
     "text": [
      "1, 1: 0.5\n",
      "1, 0: -0.5\n",
      "0, 1: -0.5\n",
      "0, 0: -1.5\n"
     ]
    }
   ],
   "source": [
    "def AND_NEURON(x1, x2):\n",
    "    a1, a2  = 1, 1\n",
    "    b = -1.5\n",
    "    return  x1 * a1 + x2 * a2 + b\n",
    "printeaza_valorile(AND_NEURON)"
   ]
  },
  {
   "cell_type": "code",
   "execution_count": 21,
   "id": "30d924bb",
   "metadata": {},
   "outputs": [],
   "source": [
    "def activare(x):\n",
    "    if x >= 0:\n",
    "        return 1\n",
    "    else:\n",
    "        return 0"
   ]
  },
  {
   "cell_type": "code",
   "execution_count": 22,
   "id": "4002bd12",
   "metadata": {},
   "outputs": [
    {
     "name": "stdout",
     "output_type": "stream",
     "text": [
      "1, 1: 1\n",
      "1, 0: 0\n",
      "0, 1: 0\n",
      "0, 0: 0\n"
     ]
    }
   ],
   "source": [
    "def AND_NEURON(x1, x2):\n",
    "    a1, a2  = 1, 1\n",
    "    b = -1.5\n",
    "    return  activare(x1 * a1 + x2 * a2 + b)\n",
    "printeaza_valorile(AND_NEURON)"
   ]
  },
  {
   "cell_type": "code",
   "execution_count": 23,
   "id": "9c03ced5",
   "metadata": {},
   "outputs": [
    {
     "data": {
      "text/plain": [
       "1"
      ]
     },
     "execution_count": 23,
     "metadata": {},
     "output_type": "execute_result"
    }
   ],
   "source": [
    "AND_NEURON(12300, 321312)"
   ]
  },
  {
   "cell_type": "code",
   "execution_count": 24,
   "id": "fc615d5a",
   "metadata": {},
   "outputs": [
    {
     "data": {
      "text/plain": [
       "1"
      ]
     },
     "execution_count": 24,
     "metadata": {},
     "output_type": "execute_result"
    }
   ],
   "source": [
    "AND_NEURON(12300, 0)"
   ]
  },
  {
   "cell_type": "code",
   "execution_count": 25,
   "id": "9864452f",
   "metadata": {},
   "outputs": [
    {
     "data": {
      "text/plain": [
       "0"
      ]
     },
     "execution_count": 25,
     "metadata": {},
     "output_type": "execute_result"
    }
   ],
   "source": [
    "AND_NEURON(12300, -321321)"
   ]
  },
  {
   "cell_type": "code",
   "execution_count": 28,
   "id": "d6ee59bc",
   "metadata": {},
   "outputs": [
    {
     "name": "stdout",
     "output_type": "stream",
     "text": [
      "1, 1: 1\n",
      "1, 0: 1\n",
      "0, 1: 1\n",
      "0, 0: 0\n"
     ]
    }
   ],
   "source": [
    "def OR_CLASIC(x1, x2):\n",
    "    return int(x1 or x2)\n",
    "\n",
    "printeaza_valorile(OR_CLASIC)"
   ]
  },
  {
   "cell_type": "code",
   "execution_count": 32,
   "id": "290e5865",
   "metadata": {},
   "outputs": [
    {
     "name": "stdout",
     "output_type": "stream",
     "text": [
      "1, 1: 1\n",
      "1, 0: 1\n",
      "0, 1: 1\n",
      "0, 0: 0\n"
     ]
    }
   ],
   "source": [
    "def OR_NEURON(x1, x2):\n",
    "    a1, a2  = 1, 1\n",
    "    b = -0.5\n",
    "    return  activare(x1 * a1 + x2 * a2 + b)\n",
    "printeaza_valorile(OR_NEURON)"
   ]
  },
  {
   "cell_type": "code",
   "execution_count": 34,
   "id": "bd465ab2",
   "metadata": {},
   "outputs": [
    {
     "name": "stdout",
     "output_type": "stream",
     "text": [
      "1, 1: 1\n",
      "1, 0: 1\n",
      "0, 1: 1\n",
      "0, 0: 0\n"
     ]
    }
   ],
   "source": [
    "def OR_NEURON(x1, x2):\n",
    "    w1, w2  = 1, 1\n",
    "    b = -0.5\n",
    "    return  activare(x1 * w1 + x2 * w2 + b)\n",
    "printeaza_valorile(OR_NEURON)"
   ]
  },
  {
   "cell_type": "code",
   "execution_count": null,
   "id": "9f8c42e1",
   "metadata": {},
   "outputs": [],
   "source": [
    "def NEURON_GENERIC(x1, x2):\n",
    "    a1, a2  = 0.432, 0.31231\n",
    "    b = -312312.4432\n",
    "    return  x1 * a1 + x2 * a2 + b\n",
    "printeaza_valorile(NEURON_GENERIC)"
   ]
  },
  {
   "cell_type": "code",
   "execution_count": null,
   "id": "3d9c21b3",
   "metadata": {},
   "outputs": [],
   "source": [
    "def NEURON_GENERIC(x1, x2, x3, x4):\n",
    "    a1, a2  = 0.432, 0.31231\n",
    "    b = -312312.4432\n",
    "    return  x1 * a1 + x2 * a2 + b\n",
    "printeaza_valorile(NEURON_GENERIC)"
   ]
  }
 ],
 "metadata": {
  "kernelspec": {
   "display_name": "Python 3",
   "language": "python",
   "name": "python3"
  },
  "language_info": {
   "codemirror_mode": {
    "name": "ipython",
    "version": 3
   },
   "file_extension": ".py",
   "mimetype": "text/x-python",
   "name": "python",
   "nbconvert_exporter": "python",
   "pygments_lexer": "ipython3",
   "version": "3.13.7"
  }
 },
 "nbformat": 4,
 "nbformat_minor": 5
}
